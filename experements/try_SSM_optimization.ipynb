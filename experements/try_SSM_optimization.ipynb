{
 "cells": [
  {
   "cell_type": "code",
   "execution_count": null,
   "metadata": {
    "vscode": {
     "languageId": "plaintext"
    }
   },
   "outputs": [],
   "source": [
    "import torch\n",
    "from SVI_solver_library.transform.AdapterTransform import AdapterTransform as Adapter\n",
    "from SVI_solver_library.solver.ProjSolver import ProjSolver as ProjSolver"
   ]
  }
 ],
 "metadata": {
  "language_info": {
   "name": "python"
  }
 },
 "nbformat": 4,
 "nbformat_minor": 2
}
